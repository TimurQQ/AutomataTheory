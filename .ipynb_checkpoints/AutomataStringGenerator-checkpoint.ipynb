{
 "cells": [
  {
   "cell_type": "code",
   "execution_count": 2,
   "metadata": {},
   "outputs": [
    {
     "name": "stdout",
     "output_type": "stream",
     "text": [
      "Defaulting to user installation because normal site-packages is not writeable\n",
      "Collecting rstr\n",
      "  Using cached rstr-3.0.0-py2.py3-none-any.whl (9.0 kB)\n",
      "Installing collected packages: rstr\n",
      "Successfully installed rstr-3.0.0\n"
     ]
    },
    {
     "name": "stderr",
     "output_type": "stream",
     "text": [
      "WARNING: You are using pip version 20.1.1; however, version 21.3.1 is available.\n",
      "You should consider upgrading via the 'c:\\program files (x86)\\microsoft visual studio\\shared\\python37_64\\python.exe -m pip install --upgrade pip' command.\n"
     ]
    }
   ],
   "source": [
    "!pip3 install rstr\n",
    "import rstr"
   ]
  },
  {
   "cell_type": "code",
   "execution_count": 32,
   "metadata": {},
   "outputs": [],
   "source": [
    "!mkdir generated_files"
   ]
  },
  {
   "cell_type": "code",
   "execution_count": 42,
   "metadata": {},
   "outputs": [
    {
     "name": "stdout",
     "output_type": "stream",
     "text": [
      "short with_body Done!!!\n",
      "short without_body Done!!!\n",
      "long with_body Done!!!\n",
      "long without_body Done!!!\n",
      "one_adress with_body Done!!!\n",
      "one_adress without_body Done!!!\n"
     ]
    }
   ],
   "source": [
    "#GENERATE CORRECT STRINGS\n",
    "import os\n",
    "base_dir = \"generated_files\"\n",
    "file_names = {\"short\": {\"with_body\": \"short_with_body.txt\",\n",
    "                      \"without_body\": \"short_without_body.txt\"\n",
    "                     },\n",
    "            \"long\": {\"with_body\": \"long_with_body.txt\",\n",
    "                     \"without_body\": \"long_without_body.txt\"\n",
    "                    },\n",
    "            \"one_adress\": {\"with_body\": \"one_adress_with_body.txt\",\n",
    "                          \"without_body\": \"one_adress_without_body.txt\"\n",
    "                          }\n",
    "           }\n",
    "\n",
    "num_strs = {\"short\": {\"with_body\": 1000,\n",
    "                      \"without_body\": 1000\n",
    "                     },\n",
    "            \"long\": {\"with_body\": 1000,\n",
    "                     \"without_body\": 1000\n",
    "                    },\n",
    "            \"one_adress\": {\"with_body\": 1000,\n",
    "                          \"without_body\": 1000\n",
    "                          }\n",
    "           }\n",
    "\n",
    "patterns = {\n",
    "            \"short\": r\"(tel|fax|sms):\\+[0-9]{11}(,\\+[0-9]{11}){1,5};\",\n",
    "            \"long\": r\"(tel|fax|sms):\\+[0-9]{11}(,\\+[0-9]{11}){6,100};\",\n",
    "            \"one_adress\": r\"(tel|fax|sms):\\+[0-9]{11};\",\n",
    "            \"with_body\": r\"\\?body=[0-9a-zA-Z%.,!?]{0,64}\"\n",
    "            }\n",
    "with open(os.path.join(base_dir, \"combined_file.txt\"), \"w\") as combinedFObj:\n",
    "    for (_type, body_type_ns) in num_strs.items():\n",
    "        for (body_type, ni) in body_type_ns.items():\n",
    "            with open(os.path.join(base_dir, file_names[_type][body_type]), \"w\") as fObj:\n",
    "                for i in range(ni):\n",
    "                    if body_type == \"with_body\":\n",
    "                        sms_prefix = \"sms\"+ patterns[_type][13::]\n",
    "                        s = rstr.xeger(sms_prefix + patterns[\"with_body\"])\n",
    "                    elif body_type == \"without_body\":\n",
    "                        s = rstr.xeger(patterns[_type])\n",
    "                    fObj.write(s + '\\n')\n",
    "                    combinedFObj.write(s + '\\n')\n",
    "            print(f\"{_type} {body_type} Done!!!\")"
   ]
  },
  {
   "cell_type": "code",
   "execution_count": 45,
   "metadata": {},
   "outputs": [],
   "source": [
    "!mkdir generated_negative_files"
   ]
  },
  {
   "cell_type": "code",
   "execution_count": 56,
   "metadata": {},
   "outputs": [
    {
     "name": "stdout",
     "output_type": "stream",
     "text": [
      "type_negative with_body Done!!!\n",
      "type_negative without_body Done!!!\n",
      "numbers_negative with_body Done!!!\n",
      "numbers_negative without_body Done!!!\n",
      "number_negative with_body Done!!!\n",
      "number_negative without_body Done!!!\n",
      "number_negative_1 with_body Done!!!\n",
      "number_negative_1 without_body Done!!!\n",
      "body_negative with_body Done!!!\n",
      "body_negative_1 with_body Done!!!\n",
      "not_sms_with_body with_body Done!!!\n"
     ]
    }
   ],
   "source": [
    "#GENERATE WRONG STRINGS\n",
    "base_dir = \"generated_negative_files\"\n",
    "file_names = { \"type_negative\": {\"with_body\": \"type_negative_with_body.txt\",\n",
    "                      \"without_body\": \"type_negative_without_body.txt\"\n",
    "                     },\n",
    "            \"numbers_negative\": {\"with_body\": \"numbers_negative_with_body.txt\",\n",
    "                     \"without_body\": \"numbers_negative_without_body.txt\"\n",
    "                    },\n",
    "            \"number_negative\": {\"with_body\": \"number_negative_with_body.txt\",\n",
    "                                \"without_body\": \"number_negative_without_body.txt\"\n",
    "                                },\n",
    "              \"number_negative_1\": {\"with_body\": \"number_negative_1_with_body.txt\",\n",
    "                                    \"without_body\": \"number_negative_1_without_body.txt\"\n",
    "                                    },\n",
    "              \"body_negative\": {\"with_body\": \"body_negative.txt\"},\n",
    "              \"body_negative_1\": {\"with_body\": \"body_negative_1.txt\"},\n",
    "              \"not_sms_with_body\": {\"with_body\": \"not_sms_with_body.txt\"}\n",
    "           }\n",
    "\n",
    "num_strs = { \"type_negative\": {\"with_body\": 1000,\n",
    "                      \"without_body\": 1000\n",
    "                     },\n",
    "            \"numbers_negative\": {\"with_body\": 1000,\n",
    "                     \"without_body\": 1000\n",
    "                    },\n",
    "            \"number_negative\": {\"with_body\": 1000,\n",
    "                                \"without_body\": 1000\n",
    "                                },\n",
    "            \"number_negative_1\": {\"with_body\": 1000,\n",
    "                                    \"without_body\": 1000\n",
    "                                    },\n",
    "            \"body_negative\": {\"with_body\": 1000},\n",
    "            \"body_negative_1\": {\"with_body\": 1000},\n",
    "\n",
    "            \"not_sms_with_body\": {\"with_body\": 1000}\n",
    "           }\n",
    "\n",
    "patterns_negative = {\n",
    "            \"type_negative\": r\"(te[^l]|f[^a]x|.s|.{5,10}):\\+[0-9]{11}(,\\+[0-9]{11}){1,5};\",#DONE\n",
    "            \"numbers_negative\": r\"(tel|fax|sms):\\+[0-9]{11}(,(\\+){0,1}[0-9]{9,10}){6,100};\", #DONE\n",
    "            \"number_negative\": r\"(tel|fax|sms):(\\+)[0-9]{11},{0,1}\",#DONE\n",
    "            \"number_negative_1\": r\"(tel|fax|sms):(\\+){0,1}[0-9]{9,10},{0,1};\",#DONE\n",
    "            \"body_negative\": r\"(tel|fax|sms):\\+[0-9]{11}(,\\+[0-9]{11}){1,5};\\?body=[$*@&+-=а-яА-Я]{1,64}\",#DONE\n",
    "            \"body_negative_1\": r\"(tel|fax|sms):\\+[0-9]{11}(,\\+[0-9]{11}){1,5};\\?body=[0-9a-zA-Z%.,!?]{65,78}\",#DONE\n",
    "            \"not_sms_with_body\": r\"(tel|fax):\\+[0-9]{11}(,\\+[0-9]{11}){1,5};\\?body=[0-9a-zA-Z%.,!?]{0,64}\"#DONE\n",
    "            }\n",
    "\n",
    "\n",
    "with open(os.path.join(base_dir, \"combined_negative_file.txt\"), \"w\") as combinedFObj:\n",
    "    for (_type, body_type_ns) in num_strs.items():\n",
    "        for (body_type, ni) in body_type_ns.items():\n",
    "            with open(os.path.join(base_dir, file_names[_type][body_type]), \"w\") as fObj:\n",
    "                for i in range(ni):\n",
    "                    if body_type == \"with_body\" and _type not in (\"body_negative\", \"body_negative_1\", \"not_sms_with_body\"):\n",
    "                        s = rstr.xeger(patterns_negative[_type] + patterns[\"with_body\"])\n",
    "                    else:\n",
    "                        s = rstr.xeger(patterns_negative[_type])\n",
    "                    fObj.write(s + '\\n')\n",
    "                    combinedFObj.write(s + '\\n')\n",
    "            print(f\"{_type} {body_type} Done!!!\")\n"
   ]
  },
  {
   "cell_type": "code",
   "execution_count": null,
   "metadata": {},
   "outputs": [],
   "source": [
    "#GENERATE TIMING STRINGS\n",
    "base_dir = generated_timing"
   ]
  }
 ],
 "metadata": {
  "kernelspec": {
   "display_name": "Python 3",
   "language": "python",
   "name": "python3"
  },
  "language_info": {
   "codemirror_mode": {
    "name": "ipython",
    "version": 3
   },
   "file_extension": ".py",
   "mimetype": "text/x-python",
   "name": "python",
   "nbconvert_exporter": "python",
   "pygments_lexer": "ipython3",
   "version": "3.7.8"
  }
 },
 "nbformat": 4,
 "nbformat_minor": 2
}
